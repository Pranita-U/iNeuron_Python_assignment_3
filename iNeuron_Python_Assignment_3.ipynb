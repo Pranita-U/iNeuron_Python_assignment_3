{
  "nbformat": 4,
  "nbformat_minor": 0,
  "metadata": {
    "colab": {
      "name": "iNeuron_Python_Assignment_3.ipynb",
      "provenance": [],
      "collapsed_sections": []
    },
    "kernelspec": {
      "name": "python3",
      "display_name": "Python 3"
    }
  },
  "cells": [
    {
      "cell_type": "markdown",
      "metadata": {
        "id": "P3jA1tfib3Ee",
        "colab_type": "text"
      },
      "source": [
        "Write a function to compute 5/0 and use try/except to catch the exceptions. "
      ]
    },
    {
      "cell_type": "code",
      "metadata": {
        "id": "pcO4Uthmbwk5",
        "colab_type": "code",
        "colab": {}
      },
      "source": [
        "def mfunc(n):\n",
        "  try:\n",
        "    n/0\n",
        "  except:\n",
        "    print(\"There is an issue with the code\")\n",
        "  else:\n",
        "    print(\"There is no issue,can proceed\")\n",
        "  finally:\n",
        "    print(\"Execute this, its mandatory\")"
      ],
      "execution_count": 0,
      "outputs": []
    },
    {
      "cell_type": "code",
      "metadata": {
        "id": "5hgXAarJcwZ1",
        "colab_type": "code",
        "colab": {
          "base_uri": "https://localhost:8080/",
          "height": 54
        },
        "outputId": "3616003e-e6e3-4c03-ebf1-58dda2d2a402"
      },
      "source": [
        "mfunc(5)"
      ],
      "execution_count": 4,
      "outputs": [
        {
          "output_type": "stream",
          "text": [
            "There is an issue with the code\n",
            "Execute this, its mandatory\n"
          ],
          "name": "stdout"
        }
      ]
    },
    {
      "cell_type": "markdown",
      "metadata": {
        "id": "8XwRRU5YdGSq",
        "colab_type": "text"
      },
      "source": [
        "Implement a Python program to generate all sentences where subject is in [\"Americans\", \"Indians\"] and verb is in [\"Play\", \"watch\"] and the object is in [\"Baseball\",\"cricket\"]. \n",
        " \n",
        "Hint: Subject,Verb and Object should be declared in the program as shown below. \n",
        " \n",
        "subjects=[\"Americans \",\"Indians\"] verbs=[\"play\",\"watch\"] objects=[\"Baseball\",\"Cricket\"] \n",
        " \n"
      ]
    },
    {
      "cell_type": "code",
      "metadata": {
        "id": "N5M_iM5hc44V",
        "colab_type": "code",
        "colab": {
          "base_uri": "https://localhost:8080/",
          "height": 164
        },
        "outputId": "4b976c2e-ee31-4158-e11f-1a1b2a2650be"
      },
      "source": [
        "subjects=[\"Americans \",\"Indians\"] \n",
        "verbs=[\"play\",\"watch\"] \n",
        "objects=[\"Baseball\",\"Cricket\"] \n",
        "\n",
        "for i in subjects:\n",
        "  for j in verbs:\n",
        "    for k in objects:\n",
        "      print(i+\" \"+j+\" \"+\" \"+k)"
      ],
      "execution_count": 6,
      "outputs": [
        {
          "output_type": "stream",
          "text": [
            "Americans  play  Baseball\n",
            "Americans  play  Cricket\n",
            "Americans  watch  Baseball\n",
            "Americans  watch  Cricket\n",
            "Indians play  Baseball\n",
            "Indians play  Cricket\n",
            "Indians watch  Baseball\n",
            "Indians watch  Cricket\n"
          ],
          "name": "stdout"
        }
      ]
    }
  ]
}